{
 "cells": [
  {
   "cell_type": "code",
   "execution_count": 1,
   "metadata": {},
   "outputs": [],
   "source": [
    "import numpy as np\n",
    "np.random.seed(1)"
   ]
  },
  {
   "cell_type": "code",
   "execution_count": 2,
   "metadata": {},
   "outputs": [],
   "source": [
    "X = np.array([[0,1,0],\n",
    "              [1,0,0],\n",
    "              [1,1,1],\n",
    "              [0,1,1]])\n",
    "\n",
    "y = np.array([[0,1,1,0]]).T"
   ]
  },
  {
   "cell_type": "code",
   "execution_count": 3,
   "metadata": {},
   "outputs": [],
   "source": [
    "def sigmoid(x):\n",
    "    return 1/(1+np.exp(-x))"
   ]
  },
  {
   "cell_type": "code",
   "execution_count": 4,
   "metadata": {},
   "outputs": [],
   "source": [
    "W = 2*np.random.random((3,1)) - 1\n",
    "b = 0"
   ]
  },
  {
   "cell_type": "code",
   "execution_count": 5,
   "metadata": {},
   "outputs": [],
   "source": [
    "z = X.dot(W) + b"
   ]
  },
  {
   "cell_type": "code",
   "execution_count": 6,
   "metadata": {},
   "outputs": [],
   "source": [
    "A = sigmoid(z)"
   ]
  },
  {
   "cell_type": "code",
   "execution_count": 7,
   "metadata": {},
   "outputs": [
    {
     "name": "stdout",
     "output_type": "stream",
     "text": [
      "[[ 0.60841366]\n",
      " [ 0.45860596]\n",
      " [ 0.3262757 ]\n",
      " [ 0.36375058]]\n"
     ]
    }
   ],
   "source": [
    "print(A)"
   ]
  },
  {
   "cell_type": "code",
   "execution_count": 8,
   "metadata": {},
   "outputs": [],
   "source": [
    "def bce_loss(y,y_hat):\n",
    "  N = y.shape[0]\n",
    "  loss = -1/N * np.sum((y*np.log(y_hat) + (1 - y)*np.log(1-y_hat)))\n",
    "  return loss "
   ]
  },
  {
   "cell_type": "code",
   "execution_count": 9,
   "metadata": {},
   "outputs": [
    {
     "data": {
      "text/plain": [
       "0.82232258208779863"
      ]
     },
     "execution_count": 9,
     "metadata": {},
     "output_type": "execute_result"
    }
   ],
   "source": [
    "bce_loss(y,A)"
   ]
  },
  {
   "cell_type": "code",
   "execution_count": 1,
   "metadata": {},
   "outputs": [
    {
     "name": "stdout",
     "output_type": "stream",
     "text": [
      "Epoch: 0 Loss: 0.822322582088\n",
      "Epoch: 1 Loss: 0.722897448125\n",
      "Epoch: 2 Loss: 0.646837651208\n",
      "Epoch: 3 Loss: 0.584116122241\n",
      "Epoch: 4 Loss: 0.530908161024\n",
      "Epoch: 5 Loss: 0.48523717872\n",
      "Epoch: 6 Loss: 0.445747750118\n",
      "Epoch: 7 Loss: 0.411391164148\n",
      "Epoch: 8 Loss: 0.381326093762\n",
      "Epoch: 9 Loss: 0.354869998127\n",
      "Epoch: 10 Loss: 0.331466036109\n",
      "Epoch: 11 Loss: 0.310657702141\n",
      "Epoch: 12 Loss: 0.292068863232\n",
      "Epoch: 13 Loss: 0.275387990352\n",
      "Epoch: 14 Loss: 0.260355695915\n",
      "Epoch: 15 Loss: 0.246754868981\n",
      "Epoch: 16 Loss: 0.234402844624\n",
      "Epoch: 17 Loss: 0.22314516463\n",
      "Epoch: 18 Loss: 0.21285058467\n",
      "Epoch: 19 Loss: 0.203407060401\n"
     ]
    }
   ],
   "source": [
    "import numpy as np\n",
    "np.random.seed(1)\n",
    "\n",
    "X = np.array([[0,1,0],\n",
    "              [1,0,0],\n",
    "              [1,1,1],\n",
    "              [0,1,1]])\n",
    "\n",
    "y = np.array([[0,1,1,0]]).T\n",
    "\n",
    "def sigmoid(x):\n",
    "    return 1/(1+np.exp(-x))\n",
    "\n",
    "def bce_loss(y,y_hat):\n",
    "    N = y.shape[0]\n",
    "    loss = -1/N * np.sum((y*np.log(y_hat) + (1 - y)*np.log(1-y_hat)))\n",
    "    return loss \n",
    "\n",
    "\n",
    "W = 2*np.random.random((3,1)) - 1\n",
    "b = 0\n",
    "\n",
    "\n",
    "alpha = 1\n",
    "epochs = 20\n",
    "\n",
    "N = y.shape[0]\n",
    "\n",
    "losses = []\n",
    "for i in range(epochs):\n",
    "    z = X.dot(W) + b\n",
    "    A = sigmoid(z)\n",
    "    \n",
    "    loss = bce_loss(y,A)\n",
    "    print('Epoch:',i,'Loss:',loss)\n",
    "    losses.append(loss)\n",
    "    \n",
    "    dz = (A - y)\n",
    "    dW = 1/N * np.dot(X.T,dz)\n",
    "    db = 1/N * np.sum(dz,axis=0,keepdims=True)      \n",
    "    W -= alpha * dW\n",
    "    b -= alpha * db"
   ]
  },
  {
   "cell_type": "code",
   "execution_count": 6,
   "metadata": {},
   "outputs": [
    {
     "data": {
      "image/png": "[encoded data removed]",
      "text/plain": [
       "<matplotlib.figure.Figure at 0x10ff73630>"
      ]
     },
     "metadata": {},
     "output_type": "display_data"
    }
   ],
   "source": [
    "import matplotlib.pyplot as plt\n",
    "plt.plot(losses)\n",
    "plt.xlabel('epoch')\n",
    "plt.ylabel('loss')\n",
    "plt.show()\n",
    "fig.savefig('loss.jpg')"
   ]
  },
  {
   "cell_type": "code",
   "execution_count": null,
   "metadata": {},
   "outputs": [],
   "source": []
  }
 ],
 "metadata": {
  "anaconda-cloud": {},
  "kernelspec": {
   "display_name": "Python [default]",
   "language": "python",
   "name": "python3"
  },
  "language_info": {
   "codemirror_mode": {
    "name": "ipython",
    "version": 3
   },
   "file_extension": ".py",
   "mimetype": "text/x-python",
   "name": "python",
   "nbconvert_exporter": "python",
   "pygments_lexer": "ipython3",
   "version": "3.5.4"
  }
 },
 "nbformat": 4,
 "nbformat_minor": 2
}
